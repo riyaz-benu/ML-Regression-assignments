{
 "cells": [
  {
   "cell_type": "code",
   "execution_count": 1,
   "id": "239fe8fd-79a9-4b60-a7b4-4455bab9d738",
   "metadata": {},
   "outputs": [],
   "source": [
    "import pickle"
   ]
  },
  {
   "cell_type": "code",
   "execution_count": 2,
   "id": "030ba24a-d849-4258-aacb-e91b1e1c25cf",
   "metadata": {},
   "outputs": [],
   "source": [
    "loaded_model=pickle.load(open(\"Finalized_model_multiplelinear.sav\", 'rb'))"
   ]
  },
  {
   "cell_type": "code",
   "execution_count": 3,
   "id": "117c8239-91e5-45d5-9d7e-8f6f2c2a164b",
   "metadata": {},
   "outputs": [
    {
     "name": "stderr",
     "output_type": "stream",
     "text": [
      "C:\\Users\\USER\\anaconda3\\Lib\\site-packages\\sklearn\\base.py:493: UserWarning: X does not have valid feature names, but LinearRegression was fitted with feature names\n",
      "  warnings.warn(\n"
     ]
    }
   ],
   "source": [
    "result=loaded_model.predict([[45, 28, 2, 1, 0]])"
   ]
  },
  {
   "cell_type": "code",
   "execution_count": 4,
   "id": "bbd8fb9a-91d8-4920-90bb-9467a511380e",
   "metadata": {},
   "outputs": [
    {
     "data": {
      "text/plain": [
       "array([[9430.88053308]])"
      ]
     },
     "execution_count": 4,
     "metadata": {},
     "output_type": "execute_result"
    }
   ],
   "source": [
    "result"
   ]
  },
  {
   "cell_type": "code",
   "execution_count": null,
   "id": "9c69a066-6053-4622-9057-003484a75e70",
   "metadata": {},
   "outputs": [],
   "source": []
  }
 ],
 "metadata": {
  "kernelspec": {
   "display_name": "Python 3 (ipykernel)",
   "language": "python",
   "name": "python3"
  },
  "language_info": {
   "codemirror_mode": {
    "name": "ipython",
    "version": 3
   },
   "file_extension": ".py",
   "mimetype": "text/x-python",
   "name": "python",
   "nbconvert_exporter": "python",
   "pygments_lexer": "ipython3",
   "version": "3.12.4"
  }
 },
 "nbformat": 4,
 "nbformat_minor": 5
}
